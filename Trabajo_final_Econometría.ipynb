{
  "nbformat": 4,
  "nbformat_minor": 0,
  "metadata": {
    "colab": {
      "name": "Trabajo final-Econometría.ipynb",
      "provenance": [],
      "collapsed_sections": []
    },
    "kernelspec": {
      "name": "python3",
      "display_name": "Python 3"
    },
    "language_info": {
      "name": "python"
    }
  },
  "cells": [
    {
      "cell_type": "markdown",
      "metadata": {
        "id": "Sz1m3odd4Sna"
      },
      "source": [
        "**TRABAJO FINAL**"
      ]
    },
    {
      "cell_type": "markdown",
      "metadata": {
        "id": "0cZL1oTk6CkR"
      },
      "source": [
        "\n",
        "\n",
        "*   Blanco León Saúl David\n",
        "*   Mendoza Jimenez Daniel\n",
        "*   Mendoza Martinez Aranza Paola\n",
        "\n",
        "\n",
        "\n",
        "\n",
        "\n",
        "\n",
        "\n",
        "\n"
      ]
    },
    {
      "cell_type": "markdown",
      "metadata": {
        "id": "cHQT7Lnz5iSG"
      },
      "source": [
        "### `LOS DETERMINANTES DE LA PERCEPCIÓN DE SEGURIDAD; UN MODELO LOGÍSTICO `"
      ]
    },
    {
      "cell_type": "markdown",
      "metadata": {
        "id": "p_aDHnfBA3rH"
      },
      "source": [
        ""
      ]
    },
    {
      "cell_type": "markdown",
      "metadata": {
        "id": "gxiWRkbj-R6B"
      },
      "source": [
        "Introducción\n",
        "\n",
        "No cabe duda de que una de las demandas sociales más urgentes en los últimos tiempos en el país es la seguridad. Desde el año 2006 el número de actos delictivos que suceden en el país ha aumentado año con año de manera ininterrumpida. El Índice de Paz en México, si bien presenta una tendencia al alza, desde el año 2013 presenta un relativo estancamiento con variaciones anuales menores a 1%. Según una encuesta de Semáforo Delictivo la ciudadanía atribuye principalmente al gobierno la causa de que el nivel de delincuencia en el país aumente, siendo las principales razones la corrupción, la ineficiencia de las autoridades y la poca transparencia en el actuar del sector público. \n",
        "La tasa de incidencia delictiva en el país aumentó un 16.25% el robo en transporte público, las extorsiones, el robo de autopartes y las amenazas verbales aumentaron hacia el año 2015 generando un descontento general en la población quienes cada día se vuelven más propensos a ser víctimas de actividades delictivas. \n",
        "La teoría económica sugiere que esta percepción de la seguridad puede tener implicaciones importantes sobre las variables macroeconómicas como el consumo y la inversión, variables que a su vez perpetúan las condiciones de incivilidad que generan comportamientos delictivos creando así un círculo vicioso de afectación. \n",
        "Ante el descontento social, es tarea primordial de los hacedores de políticas públicas, encontrar la manera de satisfacer esta necesidad social optimizando los recursos escasos que se presupuesten para este propósito. \n"
      ]
    },
    {
      "cell_type": "markdown",
      "metadata": {
        "id": "xsVgy3aKA984"
      },
      "source": [
        "Para este trabajo partimos de la teoría de la incivilidad  la cual postula que “Una serie de principios acerca del rol que juegan las faltas, los comportamientos incívicos, alborotadores, actos delictivos, la falta de limpieza y mantenimiento de las instalaciones en las comunidades urbanas y su impacto en la formación e incremento de la inseguridad. Esta teoría retoma el elemento de desorganización social, que centra su análisis en la variación geográfica de la criminalidad urbana.\n",
        "Esta perspectiva propone que la población residente en áreas con señales de desorden social y/o deterioro físico reportan mayores niveles de sensación de inseguridad, es decir, las señales de incivilidad o de desorden social proyectan una situación generalizada de falta de control, bajos niveles de cohesión social y descuido político, lo que provoca una mayor sensación de vulnerabilidad frente al delito y, en consecuencia, incrementa la sensación de inseguridad.\n",
        "Entre las señales o indicadores de incivilidad que se han considerado como tales y que se correlacionan con los niveles de inseguridad, se pueden encontrar las siguientes: \n",
        "\n",
        "1)\tLas condiciones físicas de la zona (por ejemplo: grafiti, aceras sucias, edificios abandonados y/o con ventanas rotas, viviendas vacantes o en mal estado, etcétera).\n",
        "\n",
        "2)\tLa presencia de comportamientos antisociales y/o delictivos (ingestión de alcohol en la calle, consumo y venta de drogas, etcétera). \n",
        "\n",
        "3)\t El cambio poblacional rápido, tanto en número como en composición socioeconómica y étnica.\n",
        "\n",
        "4)\t La reputación de \"barrio duro\" que puede tener una zona en su respectiva ciudad.  (pp. 16-17)\n"
      ]
    },
    {
      "cell_type": "markdown",
      "metadata": {
        "id": "OUkHhE7ZB7s8"
      },
      "source": [
        "Metodología y descripción de la base de datos\n",
        "\n",
        "Para la elaboración del modelo se utilizaron datos obtenidos de la Encuesta Nacional de Victimización y Percepción sobre Seguridad Pública 2016 (ENVIPE) del INEGI, la cual, está constituida por 85,744 observaciones a nivel estatal. De los 85,744 encuestados, únicamente el 32% dijo sentirse seguro en su estado.\n",
        "\n",
        "De acuerdo con el marco teórico los principales determinantes de la percepción de la seguridad son aquellas que reflejan incivilidad, por lo que se eligieron las variables a nivel-1: problemas de iluminación, la presencia de pandillerismo, venta de droga y confianza en la policía estatal, todas obtenidas del cuestionario proporcionado por la ENVIPE. Como variables a nivel-2 la tasa de incidencia por entidad federativa, coeficiente de Gini, la percepción de seguridad a nivel estado, la percepción de seguridad por colonia, por municipio y la tasa de homicidios por cada 100 mil habitantes por estado.\n",
        "Los datos tienen una estructura transversal debido a que solo se utilizó un solo año para el estudio, las variables se componen de categóricas y continuas, presentándose de la siguiente manera:\n",
        "\n"
      ]
    },
    {
      "cell_type": "markdown",
      "metadata": {
        "id": "pcJ7lZW17vna"
      },
      "source": [
        "Se importan las paqueterías que se usarán para la elaboración del modelo"
      ]
    },
    {
      "cell_type": "markdown",
      "metadata": {
        "id": "dK-ae23B8PUZ"
      },
      "source": [
        "Importar la base de datos"
      ]
    },
    {
      "cell_type": "code",
      "metadata": {
        "id": "tUuqP468KnGn"
      },
      "source": [
        "import numpy as np\n",
        "import matplotlib.pyplot as plt\n",
        "import pandas as pd\n",
        "import statsmodels.api as sm\n",
        "\n",
        "# Omiting WARNINGS\n",
        "import warnings\n",
        "warnings.filterwarnings('ignore')"
      ],
      "execution_count": null,
      "outputs": []
    },
    {
      "cell_type": "code",
      "metadata": {
        "id": "jD8hTwmN8fmf",
        "colab": {
          "base_uri": "https://localhost:8080/",
          "height": 425
        },
        "outputId": "e35c405a-718a-4ffa-9c34-93f8e934d107"
      },
      "source": [
        "# Importamos el Data Set\n",
        "data_to_load = 'base_eco2.csv'\n",
        "\n",
        "# Read the Mouse and Drug Data and the Clinical Trial Data\n",
        "wage_df = pd.read_csv(data_to_load)\n",
        "wage_df.head()\n"
      ],
      "execution_count": null,
      "outputs": [
        {
          "output_type": "error",
          "ename": "FileNotFoundError",
          "evalue": "ignored",
          "traceback": [
            "\u001b[0;31m---------------------------------------------------------------------------\u001b[0m",
            "\u001b[0;31mFileNotFoundError\u001b[0m                         Traceback (most recent call last)",
            "\u001b[0;32m<ipython-input-25-341fc5f62c54>\u001b[0m in \u001b[0;36m<module>\u001b[0;34m()\u001b[0m\n\u001b[1;32m      3\u001b[0m \u001b[0;34m\u001b[0m\u001b[0m\n\u001b[1;32m      4\u001b[0m \u001b[0;31m# Read the Mouse and Drug Data and the Clinical Trial Data\u001b[0m\u001b[0;34m\u001b[0m\u001b[0;34m\u001b[0m\u001b[0;34m\u001b[0m\u001b[0m\n\u001b[0;32m----> 5\u001b[0;31m \u001b[0mwage_df\u001b[0m \u001b[0;34m=\u001b[0m \u001b[0mpd\u001b[0m\u001b[0;34m.\u001b[0m\u001b[0mread_csv\u001b[0m\u001b[0;34m(\u001b[0m\u001b[0mdata_to_load\u001b[0m\u001b[0;34m)\u001b[0m\u001b[0;34m\u001b[0m\u001b[0;34m\u001b[0m\u001b[0m\n\u001b[0m\u001b[1;32m      6\u001b[0m \u001b[0mwage_df\u001b[0m\u001b[0;34m.\u001b[0m\u001b[0mhead\u001b[0m\u001b[0;34m(\u001b[0m\u001b[0;34m)\u001b[0m\u001b[0;34m\u001b[0m\u001b[0;34m\u001b[0m\u001b[0m\n",
            "\u001b[0;32m/usr/local/lib/python3.7/dist-packages/pandas/io/parsers.py\u001b[0m in \u001b[0;36mread_csv\u001b[0;34m(filepath_or_buffer, sep, delimiter, header, names, index_col, usecols, squeeze, prefix, mangle_dupe_cols, dtype, engine, converters, true_values, false_values, skipinitialspace, skiprows, skipfooter, nrows, na_values, keep_default_na, na_filter, verbose, skip_blank_lines, parse_dates, infer_datetime_format, keep_date_col, date_parser, dayfirst, cache_dates, iterator, chunksize, compression, thousands, decimal, lineterminator, quotechar, quoting, doublequote, escapechar, comment, encoding, dialect, error_bad_lines, warn_bad_lines, delim_whitespace, low_memory, memory_map, float_precision)\u001b[0m\n\u001b[1;32m    686\u001b[0m     )\n\u001b[1;32m    687\u001b[0m \u001b[0;34m\u001b[0m\u001b[0m\n\u001b[0;32m--> 688\u001b[0;31m     \u001b[0;32mreturn\u001b[0m \u001b[0m_read\u001b[0m\u001b[0;34m(\u001b[0m\u001b[0mfilepath_or_buffer\u001b[0m\u001b[0;34m,\u001b[0m \u001b[0mkwds\u001b[0m\u001b[0;34m)\u001b[0m\u001b[0;34m\u001b[0m\u001b[0;34m\u001b[0m\u001b[0m\n\u001b[0m\u001b[1;32m    689\u001b[0m \u001b[0;34m\u001b[0m\u001b[0m\n\u001b[1;32m    690\u001b[0m \u001b[0;34m\u001b[0m\u001b[0m\n",
            "\u001b[0;32m/usr/local/lib/python3.7/dist-packages/pandas/io/parsers.py\u001b[0m in \u001b[0;36m_read\u001b[0;34m(filepath_or_buffer, kwds)\u001b[0m\n\u001b[1;32m    452\u001b[0m \u001b[0;34m\u001b[0m\u001b[0m\n\u001b[1;32m    453\u001b[0m     \u001b[0;31m# Create the parser.\u001b[0m\u001b[0;34m\u001b[0m\u001b[0;34m\u001b[0m\u001b[0;34m\u001b[0m\u001b[0m\n\u001b[0;32m--> 454\u001b[0;31m     \u001b[0mparser\u001b[0m \u001b[0;34m=\u001b[0m \u001b[0mTextFileReader\u001b[0m\u001b[0;34m(\u001b[0m\u001b[0mfp_or_buf\u001b[0m\u001b[0;34m,\u001b[0m \u001b[0;34m**\u001b[0m\u001b[0mkwds\u001b[0m\u001b[0;34m)\u001b[0m\u001b[0;34m\u001b[0m\u001b[0;34m\u001b[0m\u001b[0m\n\u001b[0m\u001b[1;32m    455\u001b[0m \u001b[0;34m\u001b[0m\u001b[0m\n\u001b[1;32m    456\u001b[0m     \u001b[0;32mif\u001b[0m \u001b[0mchunksize\u001b[0m \u001b[0;32mor\u001b[0m \u001b[0miterator\u001b[0m\u001b[0;34m:\u001b[0m\u001b[0;34m\u001b[0m\u001b[0;34m\u001b[0m\u001b[0m\n",
            "\u001b[0;32m/usr/local/lib/python3.7/dist-packages/pandas/io/parsers.py\u001b[0m in \u001b[0;36m__init__\u001b[0;34m(self, f, engine, **kwds)\u001b[0m\n\u001b[1;32m    946\u001b[0m             \u001b[0mself\u001b[0m\u001b[0;34m.\u001b[0m\u001b[0moptions\u001b[0m\u001b[0;34m[\u001b[0m\u001b[0;34m\"has_index_names\"\u001b[0m\u001b[0;34m]\u001b[0m \u001b[0;34m=\u001b[0m \u001b[0mkwds\u001b[0m\u001b[0;34m[\u001b[0m\u001b[0;34m\"has_index_names\"\u001b[0m\u001b[0;34m]\u001b[0m\u001b[0;34m\u001b[0m\u001b[0;34m\u001b[0m\u001b[0m\n\u001b[1;32m    947\u001b[0m \u001b[0;34m\u001b[0m\u001b[0m\n\u001b[0;32m--> 948\u001b[0;31m         \u001b[0mself\u001b[0m\u001b[0;34m.\u001b[0m\u001b[0m_make_engine\u001b[0m\u001b[0;34m(\u001b[0m\u001b[0mself\u001b[0m\u001b[0;34m.\u001b[0m\u001b[0mengine\u001b[0m\u001b[0;34m)\u001b[0m\u001b[0;34m\u001b[0m\u001b[0;34m\u001b[0m\u001b[0m\n\u001b[0m\u001b[1;32m    949\u001b[0m \u001b[0;34m\u001b[0m\u001b[0m\n\u001b[1;32m    950\u001b[0m     \u001b[0;32mdef\u001b[0m \u001b[0mclose\u001b[0m\u001b[0;34m(\u001b[0m\u001b[0mself\u001b[0m\u001b[0;34m)\u001b[0m\u001b[0;34m:\u001b[0m\u001b[0;34m\u001b[0m\u001b[0;34m\u001b[0m\u001b[0m\n",
            "\u001b[0;32m/usr/local/lib/python3.7/dist-packages/pandas/io/parsers.py\u001b[0m in \u001b[0;36m_make_engine\u001b[0;34m(self, engine)\u001b[0m\n\u001b[1;32m   1178\u001b[0m     \u001b[0;32mdef\u001b[0m \u001b[0m_make_engine\u001b[0m\u001b[0;34m(\u001b[0m\u001b[0mself\u001b[0m\u001b[0;34m,\u001b[0m \u001b[0mengine\u001b[0m\u001b[0;34m=\u001b[0m\u001b[0;34m\"c\"\u001b[0m\u001b[0;34m)\u001b[0m\u001b[0;34m:\u001b[0m\u001b[0;34m\u001b[0m\u001b[0;34m\u001b[0m\u001b[0m\n\u001b[1;32m   1179\u001b[0m         \u001b[0;32mif\u001b[0m \u001b[0mengine\u001b[0m \u001b[0;34m==\u001b[0m \u001b[0;34m\"c\"\u001b[0m\u001b[0;34m:\u001b[0m\u001b[0;34m\u001b[0m\u001b[0;34m\u001b[0m\u001b[0m\n\u001b[0;32m-> 1180\u001b[0;31m             \u001b[0mself\u001b[0m\u001b[0;34m.\u001b[0m\u001b[0m_engine\u001b[0m \u001b[0;34m=\u001b[0m \u001b[0mCParserWrapper\u001b[0m\u001b[0;34m(\u001b[0m\u001b[0mself\u001b[0m\u001b[0;34m.\u001b[0m\u001b[0mf\u001b[0m\u001b[0;34m,\u001b[0m \u001b[0;34m**\u001b[0m\u001b[0mself\u001b[0m\u001b[0;34m.\u001b[0m\u001b[0moptions\u001b[0m\u001b[0;34m)\u001b[0m\u001b[0;34m\u001b[0m\u001b[0;34m\u001b[0m\u001b[0m\n\u001b[0m\u001b[1;32m   1181\u001b[0m         \u001b[0;32melse\u001b[0m\u001b[0;34m:\u001b[0m\u001b[0;34m\u001b[0m\u001b[0;34m\u001b[0m\u001b[0m\n\u001b[1;32m   1182\u001b[0m             \u001b[0;32mif\u001b[0m \u001b[0mengine\u001b[0m \u001b[0;34m==\u001b[0m \u001b[0;34m\"python\"\u001b[0m\u001b[0;34m:\u001b[0m\u001b[0;34m\u001b[0m\u001b[0;34m\u001b[0m\u001b[0m\n",
            "\u001b[0;32m/usr/local/lib/python3.7/dist-packages/pandas/io/parsers.py\u001b[0m in \u001b[0;36m__init__\u001b[0;34m(self, src, **kwds)\u001b[0m\n\u001b[1;32m   2008\u001b[0m         \u001b[0mkwds\u001b[0m\u001b[0;34m[\u001b[0m\u001b[0;34m\"usecols\"\u001b[0m\u001b[0;34m]\u001b[0m \u001b[0;34m=\u001b[0m \u001b[0mself\u001b[0m\u001b[0;34m.\u001b[0m\u001b[0musecols\u001b[0m\u001b[0;34m\u001b[0m\u001b[0;34m\u001b[0m\u001b[0m\n\u001b[1;32m   2009\u001b[0m \u001b[0;34m\u001b[0m\u001b[0m\n\u001b[0;32m-> 2010\u001b[0;31m         \u001b[0mself\u001b[0m\u001b[0;34m.\u001b[0m\u001b[0m_reader\u001b[0m \u001b[0;34m=\u001b[0m \u001b[0mparsers\u001b[0m\u001b[0;34m.\u001b[0m\u001b[0mTextReader\u001b[0m\u001b[0;34m(\u001b[0m\u001b[0msrc\u001b[0m\u001b[0;34m,\u001b[0m \u001b[0;34m**\u001b[0m\u001b[0mkwds\u001b[0m\u001b[0;34m)\u001b[0m\u001b[0;34m\u001b[0m\u001b[0;34m\u001b[0m\u001b[0m\n\u001b[0m\u001b[1;32m   2011\u001b[0m         \u001b[0mself\u001b[0m\u001b[0;34m.\u001b[0m\u001b[0munnamed_cols\u001b[0m \u001b[0;34m=\u001b[0m \u001b[0mself\u001b[0m\u001b[0;34m.\u001b[0m\u001b[0m_reader\u001b[0m\u001b[0;34m.\u001b[0m\u001b[0munnamed_cols\u001b[0m\u001b[0;34m\u001b[0m\u001b[0;34m\u001b[0m\u001b[0m\n\u001b[1;32m   2012\u001b[0m \u001b[0;34m\u001b[0m\u001b[0m\n",
            "\u001b[0;32mpandas/_libs/parsers.pyx\u001b[0m in \u001b[0;36mpandas._libs.parsers.TextReader.__cinit__\u001b[0;34m()\u001b[0m\n",
            "\u001b[0;32mpandas/_libs/parsers.pyx\u001b[0m in \u001b[0;36mpandas._libs.parsers.TextReader._setup_parser_source\u001b[0;34m()\u001b[0m\n",
            "\u001b[0;31mFileNotFoundError\u001b[0m: [Errno 2] No such file or directory: 'base_eco2.csv'"
          ]
        }
      ]
    },
    {
      "cell_type": "markdown",
      "metadata": {
        "id": "zw3HBLmM83ru"
      },
      "source": [
        "Descripción de las variables"
      ]
    },
    {
      "cell_type": "markdown",
      "metadata": {
        "id": "9S9bi0K_9Nje"
      },
      "source": [
        "\n",
        "\n",
        "*  **ENT_INT**\tCorresponde al identificador de persona.\n",
        "*   **PDE**\tCorresponde a la percepción de seguridad en el estado. \n",
        "    1=seguro\n",
        "    0= inseguro\n",
        "*   **PDC**\tCorresponde a la percepción de seguridad en la calle. \n",
        "    1= seguro\n",
        "    0=inseguro\n",
        "*   **DV** Corresponde si ha escuchado que venden droga alrededor de su vivienda. \n",
        "    1=sí\n",
        "    0=no\n",
        "*   **PFS**\tCorresponde a la percepción futura sobre la seguridad del estado. \n",
        "    1= mejorará\n",
        "    0=empeorará\n",
        "*   **PA**\tCorresponde a si existen problemas de alumbrado en su estado. \n",
        "    1=sí\n",
        "    0=no\n",
        "*   **CPE2**\tCorresponde cuánta confianza le inspira la policía estatal.\n",
        "    1=inspira confianza\n",
        "    0=no inspira confianza\n",
        "*   **TASA DEL G**\tCorresponde a la tasa de incidencia delictiva por cada 100.000 habitantes por estado."
      ]
    },
    {
      "cell_type": "markdown",
      "metadata": {
        "id": "iPJbUUb2K1Bz"
      },
      "source": [
        "Para este modelo se considera la siguiente ecuación:"
      ]
    },
    {
      "cell_type": "markdown",
      "metadata": {
        "id": "IK0cvRcgHj4c"
      },
      "source": [
        "$$logit(\\pi_{ij}) = \\beta_0 +  \\sum_{h=1}\\beta_hX_{hij}+r_{oj} $$\n",
        "\n",
        "$$logit(\\pi_{ij}) = \\beta_0 +\\beta_1PDC+\\beta_2EP+\\beta_3VD+\\beta_4PFS+\\beta_5PA+\\beta_6CPE2$$\n",
        "\n",
        "De acuerdo con las especificaciones previas, nuestro modelo logit estará basad\n",
        "Este ecuación es equivalente a la que Christensen y Greene denominan Modelo A. Donde:\n",
        "$\\gamma_{kj} = \\gamma_{jk}$, $C$ es el costo total, $Y$ es el producto, $P_k$'s y $P_j$'s son los precios de los factores. $k,j = $ precio de combustible, precio del capital y precio del trabajo.\n",
        "\n",
        "Noten que la doble suma $\\sum_{k} \\sum_{j} \\gamma_{kj} ln(P_k) ln(P_j)$ implica que el caso $(ln(P_k))^2$ y $(ln(P_j))^2$ son posibles."
      ]
    }
  ]
}